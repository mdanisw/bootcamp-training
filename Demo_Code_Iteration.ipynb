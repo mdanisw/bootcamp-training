{
  "nbformat": 4,
  "nbformat_minor": 0,
  "metadata": {
    "colab": {
      "provenance": [],
      "authorship_tag": "ABX9TyNcfHTJvUlboUubfS4e70Yb",
      "include_colab_link": true
    },
    "kernelspec": {
      "name": "python3",
      "display_name": "Python 3"
    },
    "language_info": {
      "name": "python"
    }
  },
  "cells": [
    {
      "cell_type": "markdown",
      "metadata": {
        "id": "view-in-github",
        "colab_type": "text"
      },
      "source": [
        "<a href=\"https://colab.research.google.com/github/mdanisw/bootcamp-training/blob/main/Demo_Code_Iteration.ipynb\" target=\"_parent\"><img src=\"https://colab.research.google.com/assets/colab-badge.svg\" alt=\"Open In Colab\"/></a>"
      ]
    },
    {
      "cell_type": "code",
      "execution_count": 1,
      "metadata": {
        "colab": {
          "base_uri": "https://localhost:8080/"
        },
        "id": "hYobS1iBdpHr",
        "outputId": "ce061f8e-a4f5-4897-fbfb-9414d116d6a7"
      },
      "outputs": [
        {
          "output_type": "stream",
          "name": "stdout",
          "text": [
            "ini adalah iterasi ke_ 0\n",
            "ini adalah iterasi ke_ 1\n",
            "ini adalah iterasi ke_ 2\n",
            "ini adalah iterasi ke_ 3\n",
            "ini adalah iterasi ke_ 4\n",
            "ini adalah iterasi ke_ 5\n",
            "ini adalah iterasi ke_ 6\n",
            "ini adalah iterasi ke_ 7\n",
            "ini adalah iterasi ke_ 8\n",
            "ini adalah iterasi ke_ 9\n"
          ]
        }
      ],
      "source": [
        "x = 0\n",
        "while (x<10):\n",
        "  print (\"ini adalah iterasi ke_\",x)\n",
        "  x+=1"
      ]
    },
    {
      "cell_type": "code",
      "source": [
        "x = 0\n",
        "while (x<=10):\n",
        "  print (\"ini adalah iterasi ke_\",x)\n",
        "  x+=1"
      ],
      "metadata": {
        "colab": {
          "base_uri": "https://localhost:8080/"
        },
        "id": "b1PTcS8ieHes",
        "outputId": "fbf027c0-8fe2-492d-e6fa-0920d0b0f480"
      },
      "execution_count": 3,
      "outputs": [
        {
          "output_type": "stream",
          "name": "stdout",
          "text": [
            "ini adalah iterasi ke_ 0\n",
            "ini adalah iterasi ke_ 1\n",
            "ini adalah iterasi ke_ 2\n",
            "ini adalah iterasi ke_ 3\n",
            "ini adalah iterasi ke_ 4\n",
            "ini adalah iterasi ke_ 5\n",
            "ini adalah iterasi ke_ 6\n",
            "ini adalah iterasi ke_ 7\n",
            "ini adalah iterasi ke_ 8\n",
            "ini adalah iterasi ke_ 9\n",
            "ini adalah iterasi ke_ 10\n"
          ]
        }
      ]
    },
    {
      "cell_type": "code",
      "source": [
        "x = 0\n",
        "while (x<=10):\n",
        "  print (\"ini adalah iterasi ke_\",x)"
      ],
      "metadata": {
        "id": "154-KIQtfEJH"
      },
      "execution_count": null,
      "outputs": []
    },
    {
      "cell_type": "code",
      "source": [
        "i = 1\n",
        "m = 2\n",
        "\n",
        "while i<=5 and m<=5:\n",
        "  print(i)\n",
        "  i+=1\n",
        "  m+=1"
      ],
      "metadata": {
        "colab": {
          "base_uri": "https://localhost:8080/"
        },
        "id": "10ged7SsfMlN",
        "outputId": "c5c4aa3b-a2b6-4ac9-bcd5-6c05b01bf871"
      },
      "execution_count": 6,
      "outputs": [
        {
          "output_type": "stream",
          "name": "stdout",
          "text": [
            "1\n",
            "2\n",
            "3\n",
            "4\n"
          ]
        }
      ]
    },
    {
      "cell_type": "code",
      "source": [
        "i = 1\n",
        "m = 2\n",
        "\n",
        "while i<=5 or m<=5:\n",
        "  print(i)\n",
        "  i+=1\n",
        "  m+=1"
      ],
      "metadata": {
        "colab": {
          "base_uri": "https://localhost:8080/"
        },
        "id": "pyM1y-kYfk2e",
        "outputId": "ee2d4d2d-ef62-408b-9014-1c1da4f9c102"
      },
      "execution_count": 7,
      "outputs": [
        {
          "output_type": "stream",
          "name": "stdout",
          "text": [
            "1\n",
            "2\n",
            "3\n",
            "4\n",
            "5\n"
          ]
        }
      ]
    },
    {
      "cell_type": "code",
      "source": [
        "for x in range(1,9):\n",
        "  print(x)"
      ],
      "metadata": {
        "colab": {
          "base_uri": "https://localhost:8080/"
        },
        "id": "fVE4EpnbhPqU",
        "outputId": "5ff62557-4f98-4e6c-92de-6284fc4764ce"
      },
      "execution_count": 8,
      "outputs": [
        {
          "output_type": "stream",
          "name": "stdout",
          "text": [
            "1\n",
            "2\n",
            "3\n",
            "4\n",
            "5\n",
            "6\n",
            "7\n",
            "8\n"
          ]
        }
      ]
    },
    {
      "cell_type": "code",
      "source": [
        "for x in range(5,9):\n",
        "  print(x)"
      ],
      "metadata": {
        "colab": {
          "base_uri": "https://localhost:8080/"
        },
        "id": "wjSdqYHehe_D",
        "outputId": "4e4099a4-43d8-4fba-cde4-c20eb91723cb"
      },
      "execution_count": 9,
      "outputs": [
        {
          "output_type": "stream",
          "name": "stdout",
          "text": [
            "5\n",
            "6\n",
            "7\n",
            "8\n"
          ]
        }
      ]
    },
    {
      "cell_type": "code",
      "source": [
        "for x in range(1,9,2):\n",
        "  print(x)"
      ],
      "metadata": {
        "colab": {
          "base_uri": "https://localhost:8080/"
        },
        "id": "Xe0Dxl5ahsXW",
        "outputId": "94b82c24-ec57-4266-de0d-1d218ab95465"
      },
      "execution_count": 10,
      "outputs": [
        {
          "output_type": "stream",
          "name": "stdout",
          "text": [
            "1\n",
            "3\n",
            "5\n",
            "7\n"
          ]
        }
      ]
    },
    {
      "cell_type": "code",
      "source": [
        "n = 3\n",
        "for i in range (1,11):\n",
        "  x = n*i\n",
        "  print(x)"
      ],
      "metadata": {
        "colab": {
          "base_uri": "https://localhost:8080/"
        },
        "id": "JPUuD7wjh8B1",
        "outputId": "b4f91bc8-282c-43f8-a1e1-83136f3644f4"
      },
      "execution_count": 12,
      "outputs": [
        {
          "output_type": "stream",
          "name": "stdout",
          "text": [
            "3\n",
            "6\n",
            "9\n",
            "12\n",
            "15\n",
            "18\n",
            "21\n",
            "24\n",
            "27\n",
            "30\n"
          ]
        }
      ]
    },
    {
      "cell_type": "code",
      "source": [
        "for x in \"banana\":\n",
        "  print(x)"
      ],
      "metadata": {
        "colab": {
          "base_uri": "https://localhost:8080/"
        },
        "id": "62Z7DMGCiiHe",
        "outputId": "942143f9-8e85-49bc-e7f4-1492a2319b63"
      },
      "execution_count": 13,
      "outputs": [
        {
          "output_type": "stream",
          "name": "stdout",
          "text": [
            "b\n",
            "a\n",
            "n\n",
            "a\n",
            "n\n",
            "a\n"
          ]
        }
      ]
    },
    {
      "cell_type": "code",
      "source": [
        "a = [1, 5, 9, 12, 15]\n",
        "\n",
        "for x in a:\n",
        "  print(x)"
      ],
      "metadata": {
        "colab": {
          "base_uri": "https://localhost:8080/"
        },
        "id": "sm2t5XDLir3d",
        "outputId": "e59ba73d-8ebc-43f5-f175-ac0c7be1e75c"
      },
      "execution_count": 14,
      "outputs": [
        {
          "output_type": "stream",
          "name": "stdout",
          "text": [
            "1\n",
            "5\n",
            "9\n",
            "12\n",
            "15\n"
          ]
        }
      ]
    },
    {
      "cell_type": "code",
      "source": [
        "for x in range(0,6,2):\n",
        "  if x == 3:\n",
        "    break\n",
        "  else:\n",
        "      print(x)"
      ],
      "metadata": {
        "colab": {
          "base_uri": "https://localhost:8080/"
        },
        "id": "fe2aLD73i9OB",
        "outputId": "7070e81f-6b82-465f-eacf-de4d6e9ee0f8"
      },
      "execution_count": 18,
      "outputs": [
        {
          "output_type": "stream",
          "name": "stdout",
          "text": [
            "0\n",
            "2\n",
            "4\n"
          ]
        }
      ]
    },
    {
      "cell_type": "code",
      "source": [
        "for x in range(0,6):\n",
        "  if x == 3:\n",
        "    continue\n",
        "  else:\n",
        "      print(x)"
      ],
      "metadata": {
        "colab": {
          "base_uri": "https://localhost:8080/"
        },
        "id": "Opiw8uTdlUoC",
        "outputId": "69a49ecc-5875-4e59-8810-497b6a383327"
      },
      "execution_count": 21,
      "outputs": [
        {
          "output_type": "stream",
          "name": "stdout",
          "text": [
            "0\n",
            "1\n",
            "2\n",
            "4\n",
            "5\n"
          ]
        }
      ]
    },
    {
      "cell_type": "code",
      "source": [
        "for x in range (0,6):\n",
        "  pass"
      ],
      "metadata": {
        "id": "a0fQiN9dlmoQ"
      },
      "execution_count": 22,
      "outputs": []
    },
    {
      "cell_type": "code",
      "source": [
        "for x in \"banana\":\n",
        "\n",
        "  for y in range(6):\n",
        "    print(x, end=\" \")\n",
        "\n",
        "  print(\"\")\n",
        "\n",
        "print(\"end of code\")"
      ],
      "metadata": {
        "colab": {
          "base_uri": "https://localhost:8080/"
        },
        "id": "eS3OV7LDmNBo",
        "outputId": "d2d8209e-5d2d-4c46-b726-035c65df973d"
      },
      "execution_count": 23,
      "outputs": [
        {
          "output_type": "stream",
          "name": "stdout",
          "text": [
            "b b b b b b \n",
            "a a a a a a \n",
            "n n n n n n \n",
            "a a a a a a \n",
            "n n n n n n \n",
            "a a a a a a \n",
            "end of code\n"
          ]
        }
      ]
    },
    {
      "cell_type": "code",
      "source": [
        "for x in range(1,6):\n",
        "  i = 0\n",
        "  while i<=5:\n",
        "    print(x, end=\" \")\n",
        "    i = i+1\n",
        "  print(\"\")\n",
        "\n",
        "print(\"end of code\")"
      ],
      "metadata": {
        "colab": {
          "base_uri": "https://localhost:8080/"
        },
        "id": "qxtXP_5uwpQL",
        "outputId": "02bf65a8-632e-4e46-948a-f1450979c9bb"
      },
      "execution_count": 24,
      "outputs": [
        {
          "output_type": "stream",
          "name": "stdout",
          "text": [
            "1 1 1 1 1 1 \n",
            "2 2 2 2 2 2 \n",
            "3 3 3 3 3 3 \n",
            "4 4 4 4 4 4 \n",
            "5 5 5 5 5 5 \n",
            "end of code\n"
          ]
        }
      ]
    },
    {
      "cell_type": "code",
      "source": [
        "for x in range(1,6):\n",
        "\n",
        "  for y in range(1,5):\n",
        "    if y == 3:\n",
        "      break\n",
        "    else:\n",
        "      print(x,end=\" \")\n",
        "  print(\"\")\n",
        "print(\"end of code\")"
      ],
      "metadata": {
        "colab": {
          "base_uri": "https://localhost:8080/"
        },
        "id": "RNfEXsjfx6uy",
        "outputId": "ac5577fa-6191-4f82-8d70-a4358d92e125"
      },
      "execution_count": 35,
      "outputs": [
        {
          "output_type": "stream",
          "name": "stdout",
          "text": [
            "1 1 \n",
            "2 2 \n",
            "3 3 \n",
            "4 4 \n",
            "5 5 \n",
            "end of code\n"
          ]
        }
      ]
    },
    {
      "cell_type": "code",
      "source": [
        "for x in range(1,6):\n",
        "  if x==3:\n",
        "    break\n",
        "\n",
        "  for y in range(1,5):\n",
        "      print(x,end=\" \")\n",
        "\n",
        "  print(\"\")\n",
        "\n",
        "print(\"end of code\")"
      ],
      "metadata": {
        "colab": {
          "base_uri": "https://localhost:8080/"
        },
        "id": "Az5krILez9OV",
        "outputId": "147c0ae4-9632-4f5d-a151-8f69bcf38d74"
      },
      "execution_count": 34,
      "outputs": [
        {
          "output_type": "stream",
          "name": "stdout",
          "text": [
            "1 1 1 1 \n",
            "2 2 2 2 \n",
            "end of code\n"
          ]
        }
      ]
    },
    {
      "cell_type": "code",
      "source": [
        "for x in range(1,6):\n",
        "  for y in range(1,6):\n",
        "      print(\"*\",end=\" \")\n",
        "  print(\"\")\n",
        "print(\"end of code\")"
      ],
      "metadata": {
        "colab": {
          "base_uri": "https://localhost:8080/"
        },
        "id": "YZ3hfdoj05Z6",
        "outputId": "7b34b937-80fa-487e-b8d9-bb8ac594c6a2"
      },
      "execution_count": 10,
      "outputs": [
        {
          "output_type": "stream",
          "name": "stdout",
          "text": [
            "* * * * * \n",
            "* * * * * \n",
            "* * * * * \n",
            "* * * * * \n",
            "* * * * * \n",
            "end of code\n"
          ]
        }
      ]
    },
    {
      "cell_type": "code",
      "source": [
        "lastNumber = int(input(\"put a number: \"))\n",
        "\n",
        "for x in range(1, lastNumber+1):\n",
        "  for y in range(1, lastNumber+1):\n",
        "    print(y, end=\" \")\n",
        "  print(\"\")\n"
      ],
      "metadata": {
        "colab": {
          "base_uri": "https://localhost:8080/"
        },
        "id": "DSVqLikO1Pq3",
        "outputId": "71c4a6f3-8b2b-4635-bf06-888b73950129"
      },
      "execution_count": 13,
      "outputs": [
        {
          "output_type": "stream",
          "name": "stdout",
          "text": [
            "put a number: 10\n",
            "1 2 3 4 5 6 7 8 9 10 \n",
            "1 2 3 4 5 6 7 8 9 10 \n",
            "1 2 3 4 5 6 7 8 9 10 \n",
            "1 2 3 4 5 6 7 8 9 10 \n",
            "1 2 3 4 5 6 7 8 9 10 \n",
            "1 2 3 4 5 6 7 8 9 10 \n",
            "1 2 3 4 5 6 7 8 9 10 \n",
            "1 2 3 4 5 6 7 8 9 10 \n",
            "1 2 3 4 5 6 7 8 9 10 \n",
            "1 2 3 4 5 6 7 8 9 10 \n"
          ]
        }
      ]
    },
    {
      "cell_type": "code",
      "source": [],
      "metadata": {
        "id": "a7HxuTAP3DNf"
      },
      "execution_count": null,
      "outputs": []
    }
  ]
}