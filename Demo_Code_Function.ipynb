{
  "nbformat": 4,
  "nbformat_minor": 0,
  "metadata": {
    "colab": {
      "provenance": [],
      "authorship_tag": "ABX9TyOQWx3yqxAIqibD7+YhjsM6",
      "include_colab_link": true
    },
    "kernelspec": {
      "name": "python3",
      "display_name": "Python 3"
    },
    "language_info": {
      "name": "python"
    }
  },
  "cells": [
    {
      "cell_type": "markdown",
      "metadata": {
        "id": "view-in-github",
        "colab_type": "text"
      },
      "source": [
        "<a href=\"https://colab.research.google.com/github/mdanisw/bootcamp-training/blob/main/Demo_Code_Function.ipynb\" target=\"_parent\"><img src=\"https://colab.research.google.com/assets/colab-badge.svg\" alt=\"Open In Colab\"/></a>"
      ]
    },
    {
      "cell_type": "code",
      "execution_count": null,
      "metadata": {
        "id": "Nj6-QcXhwJrb"
      },
      "outputs": [],
      "source": [
        "def print_msg():\n",
        "  print(\"Hello World\")\n",
        "  print(\"baris pertama\")\n",
        "  print(\"baris kedua\")"
      ]
    },
    {
      "cell_type": "code",
      "source": [
        "print_msg()"
      ],
      "metadata": {
        "colab": {
          "base_uri": "https://localhost:8080/"
        },
        "id": "rwtpWZx4whXC",
        "outputId": "aa132ec3-a903-4d11-9339-f33206124369"
      },
      "execution_count": null,
      "outputs": [
        {
          "output_type": "stream",
          "name": "stdout",
          "text": [
            "Hello World\n",
            "baris pertama\n",
            "baris kedua\n"
          ]
        }
      ]
    },
    {
      "cell_type": "code",
      "source": [
        "def print_msg(input_user):\n",
        "  print(\"Input berikut adalah dari user: \",input_user)"
      ],
      "metadata": {
        "id": "UT8f85g3woVQ"
      },
      "execution_count": null,
      "outputs": []
    },
    {
      "cell_type": "code",
      "source": [
        "var1=\"Hallo Python\"\n",
        "print_msg(var1)"
      ],
      "metadata": {
        "colab": {
          "base_uri": "https://localhost:8080/"
        },
        "id": "T0sx9-35yVfH",
        "outputId": "b2b32879-af97-4eaf-e197-47fa32234f50"
      },
      "execution_count": null,
      "outputs": [
        {
          "output_type": "stream",
          "name": "stdout",
          "text": [
            "Input berikut adalah dari user:  Hallo Python\n"
          ]
        }
      ]
    },
    {
      "cell_type": "code",
      "source": [
        "def print_msg(var1, var2, var3):\n",
        "  print(\"ini adalah variable pertama:\", var1)\n",
        "  print(\"ini adalah variable kedua:\", var2)\n",
        "  print(\"ini adalah variable ketiga:\", var3)"
      ],
      "metadata": {
        "id": "BKv3Bt_iyoJC"
      },
      "execution_count": null,
      "outputs": []
    },
    {
      "cell_type": "code",
      "source": [
        "kata1=\"python\"\n",
        "kata2=\"functional programming\"\n",
        "kata3=\"Digital Skola\"\n",
        "\n",
        "print_msg(kata1, kata2, kata3)"
      ],
      "metadata": {
        "colab": {
          "base_uri": "https://localhost:8080/"
        },
        "id": "SsipoJLKzJVR",
        "outputId": "361cd5fd-ef7e-482d-855a-c04d8a74a8b5"
      },
      "execution_count": null,
      "outputs": [
        {
          "output_type": "stream",
          "name": "stdout",
          "text": [
            "ini adalah variable pertama: python\n",
            "ini adalah variable kedua: functional programming\n",
            "ini adalah variable ketiga: Digital Skola\n"
          ]
        }
      ]
    },
    {
      "cell_type": "code",
      "source": [
        "def jumlah(a, b):\n",
        "  c=a+b\n",
        "  print(\"Hasil penjumlahan dari,\",a,\" dengan \",b,\"adalah\",c)"
      ],
      "metadata": {
        "id": "UF13az_Qz2oX"
      },
      "execution_count": null,
      "outputs": []
    },
    {
      "cell_type": "code",
      "source": [
        "jumlah(5,7)"
      ],
      "metadata": {
        "colab": {
          "base_uri": "https://localhost:8080/"
        },
        "id": "NVj4q6RF5GBd",
        "outputId": "3941c960-dcaf-4953-ed77-b320b1b3c27e"
      },
      "execution_count": null,
      "outputs": [
        {
          "output_type": "stream",
          "name": "stdout",
          "text": [
            "Hasil penjumlahan dari, 5  dengan  7 adalah 12\n"
          ]
        }
      ]
    },
    {
      "cell_type": "code",
      "source": [
        "def print_mahasiswa(*mhs):\n",
        "  print(\"Ini adalah mahasiswa pertama:\", mhs[0])"
      ],
      "metadata": {
        "id": "CEoPTdk65hV2"
      },
      "execution_count": null,
      "outputs": []
    },
    {
      "cell_type": "code",
      "source": [
        "print_mahasiswa(\"bayu\", \"andi\", \"evan\", \"eri\")"
      ],
      "metadata": {
        "colab": {
          "base_uri": "https://localhost:8080/"
        },
        "id": "BjgVVjaS6D_n",
        "outputId": "8269716c-c55f-4adf-eb98-c2c4e2a6a526"
      },
      "execution_count": null,
      "outputs": [
        {
          "output_type": "stream",
          "name": "stdout",
          "text": [
            "Ini adalah mahasiswa pertama: bayu\n"
          ]
        }
      ]
    },
    {
      "cell_type": "code",
      "source": [
        "def print_mahasiswa(*mhs):\n",
        "  for i in mhs:\n",
        "    print(\"Ini adalah mahasiswa\", i)"
      ],
      "metadata": {
        "id": "Lwp5Froa6XXi"
      },
      "execution_count": null,
      "outputs": []
    },
    {
      "cell_type": "code",
      "source": [
        "print_mahasiswa(\"bayu\", \"andi\", \"evan\", \"eri\")"
      ],
      "metadata": {
        "colab": {
          "base_uri": "https://localhost:8080/"
        },
        "id": "3-iTRut-7ERx",
        "outputId": "8f7c331e-8bb9-4d50-afec-b5e18bb6c0dc"
      },
      "execution_count": null,
      "outputs": [
        {
          "output_type": "stream",
          "name": "stdout",
          "text": [
            "Ini adalah mahasiswa bayu\n",
            "Ini adalah mahasiswa andi\n",
            "Ini adalah mahasiswa evan\n",
            "Ini adalah mahasiswa eri\n"
          ]
        }
      ]
    },
    {
      "cell_type": "code",
      "source": [
        "def print_msg(nama, alamat, jurusan):\n",
        "  print(\"ini adalah variable nama:\", nama)\n",
        "  print(\"ini adalah variable alamat:\", alamat)\n",
        "  print(\"ini adalah variable jurusan:\", jurusan)"
      ],
      "metadata": {
        "id": "J_sVSp9w9RdB"
      },
      "execution_count": null,
      "outputs": []
    },
    {
      "cell_type": "code",
      "source": [
        "print_msg(nama=\"aries\", alamat=\"bogor\", jurusan=\"ilmu komputer\")"
      ],
      "metadata": {
        "colab": {
          "base_uri": "https://localhost:8080/"
        },
        "id": "D5-6wrdp9lvO",
        "outputId": "d6086db2-112f-4445-9b14-3a2a45866f73"
      },
      "execution_count": null,
      "outputs": [
        {
          "output_type": "stream",
          "name": "stdout",
          "text": [
            "ini adalah variable nama: aries\n",
            "ini adalah variable alamat: bogor\n",
            "ini adalah variable jurusan: ilmu komputer\n"
          ]
        }
      ]
    },
    {
      "cell_type": "code",
      "source": [
        "def data_mahasiswa(**data):\n",
        "  print(\"nama adalah:\", data['nama'])\n",
        "  print(\"alamat\", data['alamat'])\n",
        "  print(\"jurusan\", data['jurusan'])"
      ],
      "metadata": {
        "id": "Q0EjgvaPA5q-"
      },
      "execution_count": null,
      "outputs": []
    },
    {
      "cell_type": "code",
      "source": [
        "data_mahasiswa(alamat=\"Bogor\", jurusan=\"Ilmu Komputer\", nama=\"Aries\")"
      ],
      "metadata": {
        "id": "r2-C1o1xDRIL",
        "colab": {
          "base_uri": "https://localhost:8080/"
        },
        "outputId": "7d220ca9-35a4-4b05-b0de-b401356a21f0"
      },
      "execution_count": null,
      "outputs": [
        {
          "output_type": "stream",
          "name": "stdout",
          "text": [
            "nama adalah: Aries\n",
            "alamat Bogor\n",
            "jurusan Ilmu Komputer\n"
          ]
        }
      ]
    },
    {
      "cell_type": "code",
      "source": [
        "def jurusan_mhs(nama, jurusan=\"Teknik Mesin\"):\n",
        "  print(\"jurusan mahasiswa adalah\", jurusan)\n",
        "  print(\"nama mahasiswa adalah\", nama)"
      ],
      "metadata": {
        "id": "kep1ma5mEZ55"
      },
      "execution_count": null,
      "outputs": []
    },
    {
      "cell_type": "code",
      "source": [
        "jurusan_mhs(\"Aries\")"
      ],
      "metadata": {
        "colab": {
          "base_uri": "https://localhost:8080/"
        },
        "id": "0_BfaLuLVymy",
        "outputId": "1633f33d-4baf-48a0-ddb2-56409d3d0f36"
      },
      "execution_count": null,
      "outputs": [
        {
          "output_type": "stream",
          "name": "stdout",
          "text": [
            "jurusan mahasiswa adalah Teknik Mesin\n",
            "nama mahasiswa adalah Aries\n"
          ]
        }
      ]
    },
    {
      "cell_type": "code",
      "source": [
        "jurusan_mhs(\"Aries\", \"Ilmu Komputer\")"
      ],
      "metadata": {
        "colab": {
          "base_uri": "https://localhost:8080/"
        },
        "id": "hlp3Xr_eWCME",
        "outputId": "769ea90a-b46c-499d-88b6-92900159d666"
      },
      "execution_count": null,
      "outputs": [
        {
          "output_type": "stream",
          "name": "stdout",
          "text": [
            "jurusan mahasiswa adalah Ilmu Komputer\n",
            "nama mahasiswa adalah Aries\n"
          ]
        }
      ]
    },
    {
      "cell_type": "code",
      "source": [
        "def print_matakuliah(mk):\n",
        "  for x in mk:\n",
        "    print(\"mata kuliahnya adalah\", x)\n",
        "\n",
        "mk_input =[\"Pemrograman\", \"Kalkulus\", \"Ilmu Ekonomi\"]\n",
        "print_matakuliah(mk_input)"
      ],
      "metadata": {
        "colab": {
          "base_uri": "https://localhost:8080/"
        },
        "id": "nYuJ3HWRWbCU",
        "outputId": "ffcb6fb3-ef76-477e-fda5-de0d1bd72d4b"
      },
      "execution_count": null,
      "outputs": [
        {
          "output_type": "stream",
          "name": "stdout",
          "text": [
            "mata kuliahnya adalah Pemrograman\n",
            "mata kuliahnya adalah Kalkulus\n",
            "mata kuliahnya adalah Ilmu Ekonomi\n"
          ]
        }
      ]
    },
    {
      "cell_type": "code",
      "source": [
        "def get_addition(a, b):\n",
        "  c = a=b\n",
        "  return c"
      ],
      "metadata": {
        "id": "jJuHCohkXOnS"
      },
      "execution_count": null,
      "outputs": []
    },
    {
      "cell_type": "code",
      "source": [
        "var1 = 10\n",
        "var2 = 15\n",
        "var3 = get_addition(var1, var2)"
      ],
      "metadata": {
        "id": "dIh7vJxGXXih"
      },
      "execution_count": null,
      "outputs": []
    },
    {
      "cell_type": "code",
      "source": [
        "print(\"hasil penjumlahan\", var3)"
      ],
      "metadata": {
        "colab": {
          "base_uri": "https://localhost:8080/"
        },
        "id": "FFUtFyCFXk4C",
        "outputId": "a1c54068-b75a-4cda-da6b-f6045c408196"
      },
      "execution_count": null,
      "outputs": [
        {
          "output_type": "stream",
          "name": "stdout",
          "text": [
            "hasil penjumlahan 15\n"
          ]
        }
      ]
    },
    {
      "cell_type": "code",
      "source": [
        "def get_calculation(a, b):\n",
        "  c = a+b\n",
        "  d = a-b\n",
        "  e = a*b\n",
        "  f = a/b\n",
        "  return c,d,e,f"
      ],
      "metadata": {
        "id": "svqUCTwDXvWM"
      },
      "execution_count": null,
      "outputs": []
    },
    {
      "cell_type": "code",
      "source": [
        "var1 =10\n",
        "var2 =12\n",
        "\n",
        "jumlah, kurang, kali, bagi=get_calculation(var1, var2)"
      ],
      "metadata": {
        "id": "d80Ez1_fYOXH"
      },
      "execution_count": null,
      "outputs": []
    },
    {
      "cell_type": "code",
      "source": [
        "print(\"penjumlahannya\", jumlah)\n",
        "print(\"penguranganya\", kurang)\n",
        "print(\"perkaliannya\", kali)\n",
        "print(\"penmbaginya\", bagi)"
      ],
      "metadata": {
        "colab": {
          "base_uri": "https://localhost:8080/"
        },
        "id": "q8mUzFIiYf45",
        "outputId": "032fbfa0-4d70-41ed-b48c-83a398f852b6"
      },
      "execution_count": null,
      "outputs": [
        {
          "output_type": "stream",
          "name": "stdout",
          "text": [
            "penjumlahannya 22\n",
            "penguranganya -2\n",
            "perkaliannya 120\n",
            "penmbaginya 0.8333333333333334\n"
          ]
        }
      ]
    },
    {
      "cell_type": "code",
      "source": [
        "def myMHS():\n",
        "  nama_mhs = \"Arief\"\n",
        "  print(nama_mhs)"
      ],
      "metadata": {
        "id": "rJfIi81LZIAq"
      },
      "execution_count": null,
      "outputs": []
    },
    {
      "cell_type": "code",
      "source": [
        "myMHS()"
      ],
      "metadata": {
        "colab": {
          "base_uri": "https://localhost:8080/"
        },
        "id": "9fskUevhZXdj",
        "outputId": "4468f658-6855-4962-c514-d653e07dae17"
      },
      "execution_count": null,
      "outputs": [
        {
          "output_type": "stream",
          "name": "stdout",
          "text": [
            "Arief\n"
          ]
        }
      ]
    },
    {
      "cell_type": "code",
      "source": [
        "def myMHS_global():\n",
        "  global nama_mhs2\n",
        "  nama_mhs2 = \"Arief\"\n",
        "  print(nama_mhs2)"
      ],
      "metadata": {
        "id": "mzQ0x9cpZakv"
      },
      "execution_count": null,
      "outputs": []
    },
    {
      "cell_type": "code",
      "source": [
        "myMHS_global()"
      ],
      "metadata": {
        "colab": {
          "base_uri": "https://localhost:8080/"
        },
        "id": "SU_vvK8oZ52Q",
        "outputId": "48a14d59-0287-43b7-9bdc-3a327318ac6b"
      },
      "execution_count": null,
      "outputs": [
        {
          "output_type": "stream",
          "name": "stdout",
          "text": [
            "Arief\n"
          ]
        }
      ]
    },
    {
      "cell_type": "code",
      "source": [
        "print(nama_mhs2)"
      ],
      "metadata": {
        "colab": {
          "base_uri": "https://localhost:8080/"
        },
        "id": "7S5lWSkmaAiW",
        "outputId": "58bfd4ec-5334-4233-cf3c-697e22388e33"
      },
      "execution_count": null,
      "outputs": [
        {
          "output_type": "stream",
          "name": "stdout",
          "text": [
            "Arief\n"
          ]
        }
      ]
    },
    {
      "cell_type": "code",
      "source": [
        "#GLoabal Variable\n",
        "nama_mhs3 = \"Yudhi\"\n",
        "\n",
        "def myMHS3():\n",
        "\n",
        "  print(nama_mhs3)\n",
        "\n",
        "  myMHS3()"
      ],
      "metadata": {
        "id": "Vswl2ynyabnn"
      },
      "execution_count": null,
      "outputs": []
    },
    {
      "cell_type": "code",
      "source": [
        "!pip install pandas"
      ],
      "metadata": {
        "colab": {
          "base_uri": "https://localhost:8080/"
        },
        "id": "ZgfJ8PNPb7Gv",
        "outputId": "28009b0a-53b7-4b5a-f971-a4a43cf39184"
      },
      "execution_count": null,
      "outputs": [
        {
          "output_type": "stream",
          "name": "stdout",
          "text": [
            "Requirement already satisfied: pandas in /usr/local/lib/python3.10/dist-packages (2.0.3)\n",
            "Requirement already satisfied: python-dateutil>=2.8.2 in /usr/local/lib/python3.10/dist-packages (from pandas) (2.8.2)\n",
            "Requirement already satisfied: pytz>=2020.1 in /usr/local/lib/python3.10/dist-packages (from pandas) (2023.4)\n",
            "Requirement already satisfied: tzdata>=2022.1 in /usr/local/lib/python3.10/dist-packages (from pandas) (2024.1)\n",
            "Requirement already satisfied: numpy>=1.21.0 in /usr/local/lib/python3.10/dist-packages (from pandas) (1.25.2)\n",
            "Requirement already satisfied: six>=1.5 in /usr/local/lib/python3.10/dist-packages (from python-dateutil>=2.8.2->pandas) (1.16.0)\n"
          ]
        }
      ]
    },
    {
      "cell_type": "code",
      "source": [
        "import math\n",
        "\n",
        "a = math.pow(10, 3)\n",
        "print(a)"
      ],
      "metadata": {
        "colab": {
          "base_uri": "https://localhost:8080/"
        },
        "id": "unRJkLRrPz6I",
        "outputId": "b0a44baa-847a-4353-8255-b25da7e2f481"
      },
      "execution_count": null,
      "outputs": [
        {
          "output_type": "stream",
          "name": "stdout",
          "text": [
            "1000.0\n"
          ]
        }
      ]
    },
    {
      "cell_type": "code",
      "source": [
        "b = [1,2,3,4,5]\n",
        "c = math.fsum(b)\n",
        "print(c)"
      ],
      "metadata": {
        "colab": {
          "base_uri": "https://localhost:8080/"
        },
        "id": "FRb32i8DT89x",
        "outputId": "7aa3d03c-6ad0-4ae5-99b0-73bf05004243"
      },
      "execution_count": null,
      "outputs": [
        {
          "output_type": "stream",
          "name": "stdout",
          "text": [
            "15.0\n"
          ]
        }
      ]
    },
    {
      "cell_type": "code",
      "source": [
        "string1 = \"Hello World\"\n",
        "print(string1)"
      ],
      "metadata": {
        "colab": {
          "base_uri": "https://localhost:8080/"
        },
        "id": "qVkTc6nzUTm1",
        "outputId": "d91cf1be-ea15-4cb2-8d3c-e31500d5850c"
      },
      "execution_count": null,
      "outputs": [
        {
          "output_type": "stream",
          "name": "stdout",
          "text": [
            "Hello World\n"
          ]
        }
      ]
    },
    {
      "cell_type": "code",
      "source": [
        "string2 = string1.replace(\"World\", \"Universe\")\n",
        "print(string2)"
      ],
      "metadata": {
        "colab": {
          "base_uri": "https://localhost:8080/"
        },
        "id": "tgDysjr2coqI",
        "outputId": "f84dfaac-6373-4283-d3ff-71f50380100c"
      },
      "execution_count": null,
      "outputs": [
        {
          "output_type": "stream",
          "name": "stdout",
          "text": [
            "Hello Universe\n"
          ]
        }
      ]
    },
    {
      "cell_type": "code",
      "source": [
        "string1 = \"Aries\"\n",
        "string2 = \"Digital Skola\"\n",
        "string3 = string1 + string2\n",
        "\n",
        "print(string3)"
      ],
      "metadata": {
        "colab": {
          "base_uri": "https://localhost:8080/"
        },
        "id": "TSxedObBdArQ",
        "outputId": "08fdda0f-3544-4b82-eb4f-17bf067eca06"
      },
      "execution_count": null,
      "outputs": [
        {
          "output_type": "stream",
          "name": "stdout",
          "text": [
            "AriesDigital Skola\n"
          ]
        }
      ]
    },
    {
      "cell_type": "code",
      "source": [
        "string4 = \" \".join([string1, string2])\n",
        "print(string4)"
      ],
      "metadata": {
        "colab": {
          "base_uri": "https://localhost:8080/"
        },
        "id": "LEN4cBRMhpZs",
        "outputId": "2e10c6f2-36f6-48fb-d3e9-0c37b19932c5"
      },
      "execution_count": null,
      "outputs": [
        {
          "output_type": "stream",
          "name": "stdout",
          "text": [
            "Aries Digital Skola\n"
          ]
        }
      ]
    },
    {
      "cell_type": "code",
      "source": [
        "kalimat = \"Hari merdeka Republik Indonesia 17 Agustus 1954\"\n",
        "\n",
        "kata = kalimat.split()\n",
        "\n",
        "print(kata)"
      ],
      "metadata": {
        "id": "r_-R2GIjh4cl",
        "colab": {
          "base_uri": "https://localhost:8080/"
        },
        "outputId": "234148d8-ba6b-47de-93e8-24923d3112bc"
      },
      "execution_count": 1,
      "outputs": [
        {
          "output_type": "stream",
          "name": "stdout",
          "text": [
            "['Hari', 'merdeka', 'Republik', 'Indonesia', '17', 'Agustus', '1954']\n"
          ]
        }
      ]
    },
    {
      "cell_type": "code",
      "source": [
        "for i in kata:\n",
        "  print(i)"
      ],
      "metadata": {
        "colab": {
          "base_uri": "https://localhost:8080/"
        },
        "id": "nef4gGFcZo3o",
        "outputId": "620cbb68-da22-4a0f-d362-6b41429a3140"
      },
      "execution_count": 2,
      "outputs": [
        {
          "output_type": "stream",
          "name": "stdout",
          "text": [
            "Hari\n",
            "merdeka\n",
            "Republik\n",
            "Indonesia\n",
            "17\n",
            "Agustus\n",
            "1954\n"
          ]
        }
      ]
    },
    {
      "cell_type": "code",
      "source": [
        "string1 = \"Digital Skola\"\n",
        "\n",
        "print(len(string1))"
      ],
      "metadata": {
        "colab": {
          "base_uri": "https://localhost:8080/"
        },
        "id": "spMxia7HZvqn",
        "outputId": "77317c48-73f8-418a-d836-9ac06778f4a8"
      },
      "execution_count": 4,
      "outputs": [
        {
          "output_type": "stream",
          "name": "stdout",
          "text": [
            "13\n"
          ]
        }
      ]
    },
    {
      "cell_type": "code",
      "source": [
        "harga = 1000\n",
        "txt = \"harga produk A adalah {} rupiah\"\n",
        "\n",
        "print(txt.format(harga))"
      ],
      "metadata": {
        "colab": {
          "base_uri": "https://localhost:8080/"
        },
        "id": "UszQJFCFaL01",
        "outputId": "01559ae0-6391-47a0-fed2-65de0f5a0a91"
      },
      "execution_count": 5,
      "outputs": [
        {
          "output_type": "stream",
          "name": "stdout",
          "text": [
            "harga produk A adalah 1000 rupiah\n"
          ]
        }
      ]
    },
    {
      "cell_type": "code",
      "source": [
        "harga = 1000\n",
        "ppn = 10\n",
        "total = harga + (harga*(ppn/100))\n",
        "\n",
        "txt = \"harga produk A adalah {0} rupiah, ppn {1}%, total harga menjadi {2}\"\n",
        "\n",
        "print(txt.format(harga, ppn, total))"
      ],
      "metadata": {
        "colab": {
          "base_uri": "https://localhost:8080/"
        },
        "id": "Jdt9TK93ah_6",
        "outputId": "7c1c98ef-db54-43bc-ed7d-66b68ad4cfb7"
      },
      "execution_count": 6,
      "outputs": [
        {
          "output_type": "stream",
          "name": "stdout",
          "text": [
            "harga produk A adalah 1000 rupiah, ppn 10%, total harga menjadi 1100.0\n"
          ]
        }
      ]
    },
    {
      "cell_type": "code",
      "source": [
        "txt = \"harga produk A adalah {2} rupiah, ppn {0}%, total harga menjadi {1}\"\n",
        "\n",
        "print(txt.format(harga, ppn, total))"
      ],
      "metadata": {
        "colab": {
          "base_uri": "https://localhost:8080/"
        },
        "id": "o54a_p3ObwAe",
        "outputId": "61b445b1-f7df-40fd-b515-8fc46ff87ed6"
      },
      "execution_count": 7,
      "outputs": [
        {
          "output_type": "stream",
          "name": "stdout",
          "text": [
            "harga produk A adalah 1100.0 rupiah, ppn 1000%, total harga menjadi 10\n"
          ]
        }
      ]
    },
    {
      "cell_type": "code",
      "source": [
        "txt = \"harga produk A adalah {2} rupiah, ppn {0}%, total harga menjadi {1}\"\n",
        "\n",
        "print(txt.format(ppn, total, harga))"
      ],
      "metadata": {
        "colab": {
          "base_uri": "https://localhost:8080/"
        },
        "id": "JBR6rDYedzMJ",
        "outputId": "825eb9c0-fb42-48a3-9111-ffab8e1c96aa"
      },
      "execution_count": 8,
      "outputs": [
        {
          "output_type": "stream",
          "name": "stdout",
          "text": [
            "harga produk A adalah 1000 rupiah, ppn 10%, total harga menjadi 1100.0\n"
          ]
        }
      ]
    },
    {
      "cell_type": "code",
      "source": [],
      "metadata": {
        "id": "6HLggcnUexah"
      },
      "execution_count": null,
      "outputs": []
    }
  ]
}